import tkinter as tk
from tkinter import ttk
import pandas as pd
from tkinter import filedialog
from tkintertable import TableCanvas, TableModel
from datetime import datetime
import json
import os
import re

# --------------------------- VARIÁVEIS GLOBAIS (comentários em PT) --------------------------- #
last_path = ""   # Armazena o último caminho utilizado para salvar arquivos
last_dimensions = {"width": 1550, "height": 700}  # Dimensões padrão da janela principal

# Dicionário de clientes com sub-dicionários contendo 'account' e 'desk_id' para cada cliente
clients = {
    # Exemplos. Fique à vontade para alterar ou adicionar mais.
    "KAPITALO": {
        "account": "9269353",
        "desk_id": "desk_kap1"
    },
    "KINEA FOF": {
        "account": "9531442",
        "desk_id": "desk_kfof1"
    },
    "Charlie": {
        "account": "54321",
        "desk_id": "desk_charlie"
    },
    "Diana": {
        "account": "98765",
        "desk_id": "desk_diana"
    },
    "Matheus": {
        "account": "9270551",
        "desk_id": "desk_matheus"
    },
    "EDS UJAY": {
        "account": "9689822",
        "desk_id": "celso_1"
    }
}

# Dicionário para armazenar caminhos adicionais selecionados pelo usuário
paths = {}

# Define o diretório padrão e o caminho do arquivo JSON para armazenar dados persistentes
directory = "C:/Tranche Importer"
file_path = os.path.join(directory, "data.json")

# --------------------------- FUNÇÕES UTILITÁRIAS --------------------------- #

def copy_to_clipboard(text):
    """
    Copia o texto fornecido para a área de transferência do sistema.
    
    Args:
        text (str): Texto a ser copiado para a área de transferência.
    """
    root.clipboard_clear()  # Limpa a área de transferência atual
    root.clipboard_append(text)  # Adiciona o novo texto
    root.update()  # Atualiza a interface para garantir que o texto seja copiado

def copy_error_message():
    """
    Copia a mensagem de erro exibida no label de status para a área de transferência.
    Se ocorrer um erro durante o processo, atualiza o label de status com a mensagem de falha.
    """
    try:
        error_message = status_label.cget("text")  # Obtém o texto atual do label de status
        copy_to_clipboard(error_message)  # Copia o texto para a área de transferência
    except Exception as e:
        # Em caso de erro, atualiza o label de status com a mensagem de falha
        status_label.config(text=f"Failed to copy error message: {str(e)}", bg="red", fg="white")

def paste_data():
    """
    Lê os dados da área de transferência, separa por linhas e tabs,
    e carrega na tabela (tkintertable). Não utiliza a primeira linha como cabeçalho.
    """
    try:
        clipboard_data = root.clipboard_get()  # Obtém os dados da área de transferência
        rows = clipboard_data.strip().split('\n')  # Divide os dados em linhas
        data = [row.split('\t') for row in rows if row]  # Divide cada linha em colunas usando tab como separador

        # Cria nomes genéricos para as colunas com base no número máximo de colunas encontradas
        max_columns = max(len(row) for row in data)  # Determina o número máximo de colunas
        columns = [f"Column {i}" for i in range(max_columns)]  # Define nomes de colunas genéricas

        # Formata os dados para serem importados no modelo da tabela
        formatted_data = {
            i: {columns[j]: data[i][j] if j < len(data[i]) else '' for j in range(max_columns)}
            for i in range(len(data))
        }

        # Atualiza o modelo da tabela com os dados formatados
        model = TableModel()
        model.importDict(formatted_data)

        table.updateModel(model)  # Atualiza o modelo da tabela no widget
        table.redraw()  # Redesenha a tabela para refletir as mudanças

        # Atualiza o label de status para indicar sucesso
        status_label.config(text="Data pasted successfully!", bg="green", fg="white")
    except Exception as e:
        # Em caso de erro, atualiza o label de status com a mensagem de erro
        status_label.config(text=f"Error: {str(e)}", bg="red", fg="white")


# --------------------------- FUNÇÕES DE PROCESSAMENTO DE DADOS --------------------------- #
def process_di1_symbols(df):
    """
    Processa o DataFrame para identificar e organizar símbolos DI1 em novas colunas.
    Também cria colunas de apregoar, quantidade de apregoar, executar e agressividade,
    mantendo a mesma quantidade de colunas que a de símbolos.

    Args:
        df (pd.DataFrame): DataFrame de entrada contendo células com símbolos DI1.

    Returns:
        pd.DataFrame: DataFrame atualizado com colunas adicionais processadas.
    """
    # Padrões de regex para identificar símbolos, lado, quantidade e spread target
    pattern = r"(DI1[A-Z]\d{2}|[A-Z]\d{2})"
    side_pattern = r"\b(S|B|V|C|Sell|Buy|Compra|Venda)\b"
    quantity_pattern = r"\b(\d+)(?:/\d+)?\b"
    spread_target_pattern = r"\(?-?\d+(?:[.,]\d+)?\)?"

    # Listas para armazenar os valores extraídos
    subtipo = []
    lado = []
    spread_target = []

    # Dicionários para armazenar os símbolos e suas quantidades
    simbolos_dict = {}
    quantity_dict = {}

    # Dicionários para armazenar os atributos adicionais
    apregoar_dict = {}
    quantidade_apregoar_dict = {}
    executar_dict = {}
    agressividade_dict = {}

    # Itera sobre cada linha do DataFrame
    for _, row in df.iterrows():
        found = []  # Lista para armazenar símbolos encontrados
        side_found = ""  # Armazena o lado (BUY ou SELL) encontrado
        quantities = []  # Lista para armazenar quantidades encontradas
        spread_value = None  # Valor do spread target

        # Itera sobre cada célula na linha
        for cell in row:
            if isinstance(cell, str):
                # Encontra todos os símbolos que correspondem ao padrão
                matches = re.findall(pattern, cell)
                matches = [f"DI1{m}" if not m.startswith("DI1") else m for m in matches]
                found.extend(matches)

                # Procura o lado (BUY ou SELL) na célula
                side_match = re.search(side_pattern, cell, re.IGNORECASE)
                if side_match:
                    side_value = side_match.group(0).lower()
                    if side_value in ["s", "sell", "v", "venda"]:
                        side_found = "SELL"
                    elif side_value in ["b", "buy", "c", "compra"]:
                        side_found = "BUY"

                # Encontra quantidades na célula
                quantity_matches = re.findall(quantity_pattern, cell)
                quantities.extend(map(int, quantity_matches))

                # Encontra o spread target na célula
                spread_match = re.search(spread_target_pattern, cell)
                if spread_match:
                    spread_str = spread_match.group(0).replace('(', '-').replace(')', '').replace(',', '.')
                    try:
                        spread_value = float(spread_str)
                        if spread_value.is_integer():
                            spread_value /= 100  # Ajusta valores inteiros para decimais
                    except ValueError:
                        spread_value = None

        # Remove símbolos duplicados mantendo a ordem
        found = list(dict.fromkeys(found))

        # Determina o subtipo com base no número de símbolos encontrados
        if len(found) == 2:
            subtipo.append("FRA")
        elif len(found) == 3:
            subtipo.append("FlyFRA")
        elif len(found) == 4:
            subtipo.append("SlideFRA")
        else:
            subtipo.append(f"Apareceu {len(found)} vez(es)")

        # Adiciona o lado encontrado ou "N/A" se não encontrado
        lado.append(side_found if side_found else "N/A")
        spread_target.append(spread_value)

        # Preenche os dicionários de símbolos e quantidades
        for i in range(len(found)):
            simbolos_dict.setdefault(f"Simbolo {i+1}", []).append(found[i])

        for i in range(len(found)):
            quantity_dict.setdefault(f"Quantidade {i+1}", []).append(None)

        # Atribui as quantidades encontradas às respectivas colunas de quantidade
        if quantities:
            for i in range(len(found)):
                if i == len(found) - 1:
                    quantity_dict[f"Quantidade {i+1}"][-1] = quantities[0] if quantities else None
                else:
                    quantity_dict[f"Quantidade {i+1}"][-1] = None

        # Determina o número máximo de colunas entre símbolos e quantidades
        max_len = max(len(simbolos_dict), len(quantity_dict))

        # Garante que todos os dicionários tenham o mesmo número de colunas preenchendo com None se necessário
        for i in range(len(found), max_len):
            simbolos_dict.setdefault(f"Simbolo {i+1}", []).append(None)
            quantity_dict.setdefault(f"Quantidade {i+1}", []).append(None)

        # Define os valores de 'Apregoar' com base no número de símbolos
        if len(found) == 3:
            apregoar_values = ["FALSE", "TRUE", "FALSE"]
        elif len(found) == 4:
            apregoar_values = ["FALSE", "TRUE", "FALSE", "FALSE"]
        else:
            apregoar_values = ["FALSE"] * len(found)

        # Define os valores de 'Quantidade apregoar' com base no número de símbolos
        if len(found) == 3:
            quantidade_apregoar_values = [0, 10, 0]
        elif len(found) == 4:
            quantidade_apregoar_values = [0, 10, 0, 0]
        else:
            quantidade_apregoar_values = [None] * len(found)

        # Define os valores de 'Executar' como "TRUE" para todos os símbolos
        executar_values = ["TRUE"] * len(found)
        # Define os valores de 'Agressividade' como 100 para todos os símbolos
        agressividade_values = [100] * len(found)

        # Preenche os dicionários com os valores definidos acima
        for i in range(len(found)):
            apregoar_dict.setdefault(f"Apregoar {i+1}", []).append(apregoar_values[i])
            quantidade_apregoar_dict.setdefault(f"Quantidade apregoar {i+1}", []).append(quantidade_apregoar_values[i])
            executar_dict.setdefault(f"Executar {i+1}", []).append(executar_values[i])
            agressividade_dict.setdefault(f"Agressividade {i+1}", []).append(agressividade_values[i])

        # Preenche os dicionários com None para colunas extras, se necessário
        for i in range(len(found), max_len):
            apregoar_dict.setdefault(f"Apregoar {i+1}", []).append(None)
            quantidade_apregoar_dict.setdefault(f"Quantidade apregoar {i+1}", []).append(None)
            executar_dict.setdefault(f"Executar {i+1}", []).append(None)
            agressividade_dict.setdefault(f"Agressividade {i+1}", []).append(None)

        # Adiciona as novas colunas ao DataFrame
        df["Subtipo"] = subtipo
        df["Lado"] = lado
        df["Spread target"] = spread_target

        for col_name, values in simbolos_dict.items():
            df[col_name] = values
        for col_name, values in quantity_dict.items():
            df[col_name] = values

        for col_name, values in apregoar_dict.items():
            df[col_name] = values
        for col_name, values in quantidade_apregoar_dict.items():
            df[col_name] = values
        for col_name, values in executar_dict.items():
            df[col_name] = values
        for col_name, values in agressividade_dict.items():
            df[col_name] = values

        # Define as colunas a serem mantidas no DataFrame final
        columns_to_keep = (
            ["Subtipo", "Lado", "Spread target"] +
            [col for col in df.columns if col.startswith("Simbolo") or col.startswith("Quantidade") or col.startswith("Apregoar") or col.startswith("Executar") or col.startswith("Agressividade")]
        )
        columns_to_keep = [c for c in columns_to_keep if c in df.columns]
        df = df[columns_to_keep]

        # Adiciona colunas fixas com valores padrão ao DataFrame
        df["Tempo de espera - encilhamento"] = 100
        df["Quantidade máxima encilhada"] = 10
        df["Impedir agressão no início"] = "TRUE"
        df["Ordens simultaneas"] = 2
        df["Apregoar até"] = 0.001
        df["Encilhamento automático"] = "FALSE"
        df["Tratamento"] = "PEGGED"
        df["Quantidade máxima (por ordem)"] = 5
        df["Máx. ordens"] = 1
        df["Quantidade mínima guia"] = 5
        df["Piora Preço"] = 0
        df["Burst - intervalo apregoamento"] = 0
        df["Burst - máx. execuções"] = 1
        df["Burst - ativar"] = "FALSE"
        df["Prioridade - ativar"] = "FALSE"
        df["Intervalo apregoamento"] = 1
        df["Máxima execução adicional"] = 1
        df["Cancelar ordens de apregoamento"] = "TRUE"
        df["Instrumento do último apregoamento"] = 1
        df["Faixas de Preço"] = 1
        df["Memo"] = None  # Coluna para adicionar memos, inicialmente vazia

        # Define as colunas específicas para diferentes tipos de subtipo (3 ou 4 pontas)
        columns_3_pontas = [
            "Subtipo", "Simbolo 1", "Simbolo 2", "Simbolo 3", "Apregoar 1", "Apregoar 2", "Apregoar 3",
            "Quantidade apregoar 1", "Quantidade apregoar 2", "Quantidade apregoar 3", "Quantidade 1", 
            "Quantidade 2", "Quantidade 3", "Executar 1", "Executar 2", "Executar 3", "Agressividade 1", 
            "Agressividade 2", "Agressividade 3", "Memo", "Lado", "Spread target", 
            "Tempo de espera - encilhamento", "Quantidade máxima encilhada", "Impedir agressão no início", 
            "Ordens simultaneas", "Apregoar até", "Encilhamento automático", "Tratamento", 
            "Quantidade máxima (por ordem)", "Máx. ordens", "Quantidade mínima guia", "Piora Preço", 
            "Burst - intervalo apregoamento", "Burst - máx. execuções", "Burst - ativar", "Prioridade - ativar", 
            "Intervalo apregoamento", "Máxima execução adicional", "Cancelar ordens de apregoamento", 
            "Instrumento do último apregoamento", "Faixas de Preço"
        ]

        columns_4_pontas = [
            "Subtipo", "Simbolo 1", "Simbolo 2", "Simbolo 3", "Simbolo 4", "Apregoar 1", "Apregoar 2", 
            "Apregoar 3", "Apregoar 4", "Quantidade apregoar 1", "Quantidade apregoar 2", "Quantidade apregoar 3", 
            "Quantidade apregoar 4", "Quantidade 1", "Quantidade 2", "Quantidade 3", "Quantidade 4", "Executar 1", 
            "Executar 2", "Executar 3", "Executar 4", "Agressividade 1", "Agressividade 2", "Agressividade 3", 
            "Agressividade 4", "Memo", "Lado", "Spread target", "Tempo de espera - encilhamento", 
            "Quantidade máxima encilhada", "Impedir agressão no início", "Ordens simultaneas", "Apregoar até", 
            "Encilhamento automático", "Tratamento", "Quantidade máxima (por ordem)", "Máx. ordens", 
            "Quantidade mínima guia", "Piora Preço", "Burst - intervalo apregoamento", "Burst - máx. execuções", 
            "Burst - ativar", "Prioridade - ativar", "Intervalo apregoamento", "Máxima execução adicional", 
            "Cancelar ordens de apregoamento", "Instrumento do último apregoamento", "Faixas de Preço"
        ]

        # Filtra as colunas com base no subtipo presente no DataFrame
        if df["Subtipo"].eq("FlyFRA").any() and not df["Subtipo"].eq("SlideFRA").any():
            df = df[columns_3_pontas]  # Mantém apenas colunas para 3 pontas
        elif df["Subtipo"].eq("SlideFRA").any() and not df["Subtipo"].eq("FlyFRA").any():
            df = df[columns_4_pontas]  # Mantém apenas colunas para 4 pontas
        else:
            # Levanta um erro se houver uma mistura ou tipos diferentes de subtipo
            raise ValueError("The values are mixed or different from 'FlyFRA' and 'SlideFRA'")
        return df

def generate_dataframe():
    """
    Verifica se os campos (Client, Account, Path, Desk ID) e a tabela estão preenchidos.
    Se estiver tudo ok, cria um DataFrame pandas a partir da tabela, processa e exibe em uma nova aba.
    """
    try:
        # Obtém os valores selecionados/entrados pelo usuário
        client = picklist_client.get()
        account = entry_account.get()
        desk_id = picklist_desk.get()
        path_value = picklist_path.get()

        # Valida os campos obrigatórios
        if not client or client == "Select a name":
            raise ValueError("The 'Client' field is required.")
        if not account or account == "Enter account number":
            raise ValueError("The 'Account' field is required.")
        if not desk_id or desk_id == "Select a Desk ID":
            raise ValueError("The 'Desk ID' field is required.")
        if not path_value:
            raise ValueError("The 'Path' field is required.")
        # Verifica se a tabela está vazia
        if table.model.getRowCount() == 0 or all(all(table.model.getValueAt(row, col) == '' for col in range(table.model.getColumnCount())) for row in range(table.model.getRowCount())):
            raise ValueError("The table is empty.")

        # Extrai os dados da tabela para uma lista de listas
        data_values = []
        columns = [table.model.getColumnName(i) for i in range(table.model.getColumnCount())]
        for row_index in range(table.model.getRowCount()):
            row_data = []
            for col_index in range(table.model.getColumnCount()):
                row_data.append(table.model.getValueAt(row_index, col_index))
            data_values.append(row_data)

        # Cria um DataFrame pandas com os dados extraídos
        df = pd.DataFrame(data_values, columns=columns)

        # Processa o DataFrame para identificar símbolos DI1
        df_tranche = process_di1_symbols(df)

        # Substitui 'N/A' por NaN na coluna 'Lado' sem usar o parâmetro inplace
        df_tranche['Lado'] = df_tranche['Lado'].replace('N/A', pd.NA)

        # Remove as linhas onde 'Lado' é NaN
        df_tranche = df_tranche.dropna(subset=['Lado'])

        # Exibe o DataFrame processado no console (pode ser removido se não for necessário)
        display(df_tranche)

        # Insere as colunas de Client e Desk ID no DataFrame antes de exibir
        if df_tranche["Subtipo"].eq("FlyFRA").any() and not df_tranche["Subtipo"].eq("SlideFRA").any():
            df_tranche.insert(19, "Cliente", client)
            df_tranche.insert(21, "Desk ID", desk_id)
        elif df_tranche["Subtipo"].eq("SlideFRA").any() and not df_tranche["Subtipo"].eq("FlyFRA").any():
            df_tranche.insert(25, "Cliente", client)
            df_tranche.insert(27, "Desk ID", desk_id)
        else:
            raise ValueError("The values are mixed or different from 'FlyFRA' and 'SlideFRA'")
        
        # Abre uma nova janela exibindo o DataFrame e com botão de download
        display_dataframe_in_new_window(df_tranche, path_value)

        # Atualiza o label de status para indicar sucesso
        status_label.config(text="DataFrame generated successfully!", bg="green", fg="white")
    except ValueError as ve:
        # Atualiza o label de status com a mensagem de erro específica
        status_label.config(text=str(ve), bg="red", fg="white")
    except Exception as e:
        # Atualiza o label de status com uma mensagem de erro genérica
        status_label.config(text=f"Error: {str(e)}", bg="red", fg="white")

def display_dataframe_in_new_window(df, path_value):
    """
    Cria uma nova janela (Toplevel) para exibir o DataFrame em forma de Treeview
    com scrollbars vertical e horizontal, centralizado na tela.
    Também adiciona um botão para download em Excel na pasta definida.

    Args:
        df (pd.DataFrame): DataFrame a ser exibido na nova janela.
        path_value (str): Caminho onde o arquivo Excel será salvo.
    """
    account = entry_account.get()  # Obtém o número da conta para nomear o arquivo

    # Cria uma nova janela secundária
    top = tk.Toplevel(root)
    top.title("Generated DataFrame Preview")

    # Define o tamanho desejado da nova janela
    width = 900
    height = 500

    # Calcula a posição para centralizar a janela na tela
    x = (root.winfo_screenwidth() // 2) - (width // 2)
    y = (root.winfo_screenheight() // 2) - (height // 2) - 80
    top.geometry(f"{width}x{height}+{x}+{y}")

    # Permite redimensionamento da nova janela
    top.resizable(True, True)

    # Frame para conter o Treeview
    frame_tree = tk.Frame(top)
    frame_tree.pack(fill="both", expand=True)

    # Define as colunas do Treeview com base nas colunas do DataFrame
    columns = list(df.columns)
    tree = ttk.Treeview(frame_tree, columns=columns, show="headings")

    # Barra de rolagem vertical para o Treeview
    vsb = ttk.Scrollbar(frame_tree, orient="vertical", command=tree.yview)
    vsb.pack(side="right", fill="y")
    tree.configure(yscrollcommand=vsb.set)

    # Barra de rolagem horizontal para o Treeview
    hsb = ttk.Scrollbar(frame_tree, orient="horizontal", command=tree.xview)
    hsb.pack(side="bottom", fill="x")
    tree.configure(xscrollcommand=hsb.set)

    # Configura os cabeçalhos das colunas e define a largura
    for col in columns:
        tree.heading(col, text=col)
        tree.column(col, anchor=tk.CENTER, width=120, stretch=True)

    # Insere os dados do DataFrame no Treeview
    for index, row in df.iterrows():
        tree.insert("", "end", values=list(row))

    tree.pack(fill="both", expand=True)

    # Função para salvar o DataFrame em um arquivo Excel
    def download_excel():
        try:
            # Define o nome do arquivo de saída com base na data e na conta
            output_file = os.path.join(path_value, f"TranchesImport_SiliconTrader_{datetime.today().strftime('%Y%m%d')}_{account}.xlsx")
            df.to_excel(output_file, index=False)  # Salva o DataFrame como Excel
            # Atualiza o label de status para indicar sucesso no salvamento
            status_label.config(text=f"Excel file saved at: {output_file}", bg="green", fg="white")
        except Exception as e:
            # Atualiza o label de status em caso de erro ao salvar
            status_label.config(text=f"Error saving Excel: {str(e)}", bg="red", fg="white")

    # Botão para realizar o download do Excel
    download_button = tk.Button(top, text="Download Excel", command=download_excel,
                                 bg="#800000", fg="white")
    download_button.pack(pady=5)


# --------------------------- FUNÇÕES DE INTERFACE (UI) --------------------------- #

def clear_table():
    """
    Limpa todos os dados da tabela atual reiniciando a aplicação.
    """
    try:
        root.destroy()  # Fecha a janela principal atual
        main()  # Reinicia a aplicação chamando a função principal novamente
    except Exception as e:
        # Em caso de erro, atualiza o label de status com a mensagem de erro
        error_message = f"Error: {str(e)}"
        print(error_message)
        status_label.config(text=error_message, bg="red", fg="white")

def update_account(event):
    """
    Atualiza o campo 'Account' e carrega a Desk ID correspondente quando um client é selecionado.

    Args:
        event: Evento que dispara a função (não utilizado diretamente).
    """
    client = picklist_client.get()  # Obtém o cliente selecionado
    account_value = ""
    desk_value = ""

    if client in clients:
        # Se o cliente estiver no dicionário, obtém os valores de 'account' e 'desk_id'
        account_value = clients[client].get("account", "")
        desk_value = clients[client].get("desk_id", "")

    # Atualiza o campo de Account com o valor correspondente
    entry_account.delete(0, tk.END)
    entry_account.insert(0, account_value)

    # Atualiza o combobox de Desk ID
    picklist_desk.set("")  # Limpa o combobox atual
    picklist_desk['values'] = []  # Limpa as opções do combobox
    if desk_value:  
        # Se existir um desk_id, adiciona como a única opção disponível
        picklist_desk['values'] = [desk_value]
        picklist_desk.set(desk_value)  # Define o valor selecionado como o desk_id
    else:
        # Caso não exista desk_id, mostra o placeholder
        picklist_desk.set("Select a Desk ID")

def update_client(event):
    """
    Quando a entrada de 'Account' perde foco, tenta identificar qual client tem aquela conta.
    Se não encontrar, mostra 'Account not found'. Atualiza a combobox de Desk ID.

    Args:
        event: Evento que dispara a função (não utilizado diretamente).
    """
    account_value = entry_account.get()  # Obtém o valor inserido no campo 'Account'
    found_client = None
    # Percorre o dicionário de clientes para encontrar o cliente correspondente à conta
    for k, info in clients.items():
        if info.get("account") == account_value:
            found_client = k
            break

    if found_client:
        # Se encontrar o cliente, atualiza o combobox de client e sincroniza Desk ID
        picklist_client.set(found_client)
        update_account(None)  # Chama update_account para sincronizar Desk ID
    else:
        # Se não encontrar, atualiza o combobox de client para indicar que a conta não foi encontrada
        picklist_client.set("Account not found")
        picklist_desk.set("Select a Desk ID")

def load_json_data():
    """
    Carrega os dados do arquivo 'data.json', incluindo clients, paths, last_path e last_dimensions.
    Se o arquivo não existir, cria os dicionários padrão e salva no arquivo.
    """
    global clients, paths, last_path, last_dimensions

    # Cria o diretório padrão se ele não existir
    if not os.path.exists(directory):
        os.makedirs(directory)

    if os.path.exists(file_path):
        # Se o arquivo JSON existir, carrega os dados
        with open(file_path, 'r') as f:
            data = json.load(f)
        # Atualiza os dicionários com os dados carregados, mantendo os valores padrão caso as chaves não existam
        clients = data.get("clients", clients)
        paths = data.get("paths", {})
        last_path = data.get("last_path", "")
        last_dimensions = data.get("last_dimensions", {"width": 1550, "height": 700})
    else:
        # Se o arquivo não existir, salva os dados padrão no arquivo
        save_json_data()

def save_json_data():
    """
    Salva as variáveis: clients, paths, last_path e last_dimensions no arquivo 'data.json'.
    """
    with open(file_path, 'w') as f:
        json.dump({
            "clients": clients,
            "paths": paths,
            "last_path": last_path,
            "last_dimensions": last_dimensions
        }, f)

def update_comboboxes():
    """
    Atualiza as listas de valores das comboboxes: picklist_client e picklist_path.
    """
    picklist_client['values'] = list(clients.keys())  # Atualiza os clientes disponíveis
    picklist_path['values'] = list(paths.keys())  # Atualiza os caminhos disponíveis

def add_path():
    """
    Abre um diálogo para selecionar um diretório. Se um diretório for escolhido,
    adiciona em 'paths' e define como 'last_path'. Salva os dados no arquivo JSON.
    """
    global last_path
    new_path = filedialog.askdirectory(title="Select a directory")  # Abre o diálogo para selecionar diretório
    if new_path:
        if new_path not in paths:
            paths[new_path] = new_path  # Adiciona o novo caminho ao dicionário de paths
        last_path = new_path  # Atualiza o último caminho selecionado
        picklist_path.set(new_path)  # Define o combobox de path com o novo caminho
        save_json_data()  # Salva os dados no arquivo JSON
        update_comboboxes()  # Atualiza as comboboxes
        status_label.config(text="Path added/selected successfully!", bg="green", fg="white")
    else:
        # Se nenhum diretório for selecionado, atualiza o label de status com aviso
        status_label.config(text="No directory selected.", bg="yellow", fg="black")

def delete_path():
    """
    Deleta o caminho atualmente selecionado na combobox 'picklist_path'.
    Se for igual ao 'last_path', limpa 'last_path'. Salva os dados no arquivo JSON.
    """
    global last_path
    selected_path = picklist_path.get()  # Obtém o caminho selecionado
    if selected_path in paths:
        del paths[selected_path]  # Remove o caminho do dicionário de paths
        if last_path == selected_path:
            last_path = ""  # Limpa o last_path se o caminho deletado for o último
        save_json_data()  # Salva os dados no arquivo JSON
        update_comboboxes()  # Atualiza as comboboxes
        picklist_path.set("")  # Limpa a seleção no combobox de path
        status_label.config(text="Path deleted!", bg="green", fg="white")
    else:
        # Se o caminho não for encontrado, atualiza o label de status com erro
        status_label.config(text="Path not found.", bg="red", fg="white")

def on_path_selected(event):
    """
    Quando o usuário seleciona um caminho na combobox 'picklist_path',
    atualiza 'last_path' e salva no arquivo JSON.

    Args:
        event: Evento que dispara a função (não utilizado diretamente).
    """
    global last_path
    chosen_path = picklist_path.get()  # Obtém o caminho escolhido
    if chosen_path:
        last_path = chosen_path  # Atualiza o last_path com o caminho escolhido
        save_json_data()  # Salva os dados no arquivo JSON
        status_label.config(text=f"New path selected: {chosen_path}", bg="green", fg="white")

def save_window_dimensions(event):
    """
    Salva as dimensões da janela principal no arquivo JSON sempre que a janela é redimensionada.

    Args:
        event: Evento que dispara a função (não utilizado diretamente).
    """
    global last_dimensions
    last_dimensions["width"] = root.winfo_width()  # Obtém a largura atual da janela
    last_dimensions["height"] = root.winfo_height()  # Obtém a altura atual da janela
    save_json_data()  # Salva os dados no arquivo JSON

def add_placeholder(entry, placeholder):
    """
    Adiciona um placeholder ao campo de entrada especificado.

    Args:
        entry (tk.Entry): Campo de entrada onde o placeholder será adicionado.
        placeholder (str): Texto do placeholder.
    """
    entry.insert(0, placeholder)  # Insere o placeholder no campo de entrada
    # Vincula eventos para limpar e restaurar o placeholder quando o campo ganha/perde o foco
    entry.bind("<FocusIn>", lambda e: clear_placeholder(e, placeholder))
    entry.bind("<FocusOut>", lambda e: restore_placeholder(e, placeholder))

def clear_placeholder(event, placeholder):
    """
    Limpa o placeholder do campo de entrada quando o campo ganha foco.

    Args:
        event: Evento que dispara a função.
        placeholder (str): Texto do placeholder a ser limpo.
    """
    if event.widget.get() == placeholder:
        event.widget.delete(0, tk.END)  # Remove o placeholder se estiver presente

def restore_placeholder(event, placeholder):
    """
    Restaura o placeholder no campo de entrada se ele estiver vazio quando perde o foco.

    Args:
        event: Evento que dispara a função.
        placeholder (str): Texto do placeholder a ser restaurado.
    """
    if not event.widget.get():
        event.widget.insert(0, placeholder)  # Insere o placeholder se o campo estiver vazio


# --------------------------- FUNÇÃO PRINCIPAL --------------------------- #

def main():
    """
    Função principal que inicializa a aplicação, cria a interface gráfica,
    carrega os dados necessários e configura os eventos.
    """
    global root, table, status_label
    global picklist_client, entry_account, picklist_path, picklist_desk

    load_json_data()  # Carrega os dados do arquivo JSON

    # Cria a janela principal da aplicação
    root = tk.Tk()
    root.title("Tranche Importer")  # Define o título da janela

    # Define o ícone da aplicação (comentado, pois depende do caminho específico no Windows)
    # root.iconbitmap(r"\\Mz-vv-fs-043\usuario2\9316-ETD\I435337 - EDUARDO GONCALVES\Projetos\Monitor de Diretos - Prod\Media\IMGs\Brad.ico")

    # Define as dimensões da janela com base nos últimos valores salvos
    window_width = last_dimensions["width"]
    window_height = last_dimensions["height"]

    # Calcula a posição para centralizar a janela na tela
    x = (root.winfo_screenwidth() // 2) - (window_width // 2)
    y = (root.winfo_screenheight() // 2) - (window_height // 2)
    root.geometry(f"{window_width}x{window_height}+{x}+{y}")  # Define o tamanho e posição da janela
    root.minsize(1550, 700)  # Define o tamanho mínimo da janela
    root.resizable(True, True)  # Permite redimensionamento da janela
    root.bind("<Configure>", save_window_dimensions)  # Vincula o evento de redimensionamento para salvar as dimensões

    # Define o tema de estilo para os widgets
    style = ttk.Style()
    style.theme_use('clam')  # Define o tema 'clam'

    # Frame para a tabela
    frame_table = tk.Frame(root)
    frame_table.pack(fill="both", expand=True)  # Expande o frame para preencher a janela

    # Criação de uma tabela inicial vazia com 35 linhas e 40 colunas genéricas
    data = {
        i: {f'Column {j}': '' for j in range(40)}
        for i in range(35)
    }
    model = TableModel()
    model.importDict(data)  # Importa os dados genéricos no modelo da tabela
    table = TableCanvas(frame_table, model=model)  # Cria o widget da tabela
    table.show()  # Exibe a tabela na interface

    # Define a fonte padrão para os controles
    default_font = ("Arial Narrow", 10, "bold")

    # --------------------------- Painel Inferior de Controles --------------------------- #
    control_frame = tk.Frame(root)
    control_frame.pack(side="bottom", fill="x", padx=5)  # Posiciona o frame na parte inferior da janela

    # Label para o campo 'Client'
    label_client = tk.Label(control_frame, text="Client:", font=default_font)
    label_client.pack(side="left", fill="x", anchor="w", expand=True)

    # Combobox para selecionar o cliente
    picklist_client = ttk.Combobox(
        control_frame,
        values=list(clients.keys()),  # Preenche com os nomes dos clientes
        font=("Arial Narrow", 14),  # Define a fonte da combobox
        width=25  # Define a largura da combobox
    )
    picklist_client.set("Select a name")  # Define o valor inicial como um placeholder
    picklist_client.pack(side="left", fill="x", anchor="w", padx=(0, 5), expand=True)
    picklist_client.bind("<<ComboboxSelected>>", update_account)  # Vincula o evento de seleção para atualizar a conta

    # Label para o campo 'Account'
    label_account = tk.Label(control_frame, text="Account:", font=default_font)
    label_account.pack(side="left", fill="x", anchor="w", expand=True)

    # Campo de entrada para a conta
    entry_account = tk.Entry(
        control_frame,
        font=("Arial Narrow", 14),  # Define a fonte do campo de entrada
        width=20,  # Define a largura do campo de entrada
        borderwidth=1,  # Define a largura da borda
        relief="groove"  # Define o estilo da borda
    )
    entry_account.pack(side="left", fill="x", anchor="w", padx=(0, 5), pady=10, expand=True)  # Posiciona o campo de entrada
    add_placeholder(entry_account, "Enter account number")  # Adiciona um placeholder ao campo de entrada
    entry_account.bind("<FocusOut>", update_client)  # Vincula o evento de perda de foco para atualizar o cliente

    # Label para o campo 'Desk ID'
    label_desk = tk.Label(control_frame, text="Desk ID:", font=default_font)
    label_desk.pack(side="left", fill="x", anchor="w", expand=True)

    # Combobox para selecionar o Desk ID
    picklist_desk = ttk.Combobox(
        control_frame,
        values=[],  # Será preenchido dinamicamente com base no cliente selecionado
        font=("Arial Narrow", 14),  # Define a fonte da combobox
        width=20  # Define a largura da combobox
    )
    picklist_desk.set("Select a Desk ID")  # Define o valor inicial como um placeholder
    picklist_desk.pack(side="left", fill="x", anchor="w", padx=(0, 5), expand=True)

    # Botão para colar dados da área de transferência na tabela
    paste_button = tk.Button(control_frame, text="Paste Data", command=paste_data,
                              bg="#800000", fg="white", font=default_font, width=20)
    paste_button.pack(side="left", padx=5, expand=True)

    # Botão para limpar a tabela atual
    clear_button = tk.Button(control_frame, text="Clear Data", command=clear_table,
                              bg="#800000", fg="white", font=default_font, width=20)
    clear_button.pack(side="left", padx=5, expand=True)

    # Botão para gerar o DataFrame processado
    generate_button = tk.Button(control_frame, text="Generate Tranche", command=generate_dataframe,
                                 bg="green", fg="white", font=default_font, width=45)
    generate_button.pack(side="left", padx=5, expand=True)

    # --------------------------- Painel Inferior para os Caminhos --------------------------- #
    path_frame = tk.Frame(root)
    path_frame.pack(side="bottom", fill="x", padx=10, pady=10)  # Posiciona o frame abaixo dos controles

    # Combobox para selecionar o caminho de salvamento
    picklist_path = ttk.Combobox(
        path_frame,
        values=list(paths.keys()),  # Preenche com os caminhos disponíveis
        font=("Arial Narrow", 14),  # Define a fonte da combobox
        width=30  # Define a largura da combobox
    )
    picklist_path.pack(side="left", padx=5, fill="x", expand=True)

    # Define o caminho selecionado anteriormente, se existir
    if last_path:
        picklist_path.set(last_path)
    picklist_path.bind("<<ComboboxSelected>>", on_path_selected)  # Vincula o evento de seleção para atualizar o caminho

    # Botão para adicionar um novo caminho
    add_path_button = tk.Button(path_frame, text="Add Path", command=add_path,
                                 bg="#800000", fg="white", font=default_font, width=15)
    add_path_button.pack(side="left", padx=5)

    # Botão para deletar o caminho selecionado
    delete_path_button = tk.Button(path_frame, text="Delete Path", command=delete_path,
                                    bg="#800000", fg="white", font=default_font, width=15)
    delete_path_button.pack(side="left", padx=5)

    # --------------------------- Label de Status e Botão Copy Message --------------------------- #
    status_frame = tk.Frame(root)
    status_frame.pack(side="bottom", fill="x", padx=5, pady=5)  # Posiciona o frame na parte inferior

    # Label para exibir mensagens de status e erro
    status_label = tk.Label(status_frame, text="", font=default_font, bg="lightgray", anchor="center")
    status_label.pack(side="left", fill="x", expand=True, padx=10)

    # Botão para copiar a mensagem de status para a área de transferência
    copy_button = tk.Button(status_frame, text="Copy Message", command=copy_error_message,
                             bg="#800000", fg="white", font=default_font, width=20)
    copy_button.pack(side="right", padx=10)

    # Inicia o loop principal da interface gráfica
    root.mainloop()

# Verifica se o script está sendo executado diretamente e chama a função principal
if __name__ == "__main__":
    main()
